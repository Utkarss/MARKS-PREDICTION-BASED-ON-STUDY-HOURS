{
 "cells": [
  {
   "cell_type": "markdown",
   "id": "1f8ab202",
   "metadata": {},
   "source": [
    "## TASK - PREDICTION USING SUPERVISED ML (PREDICT THE SCORE BASED ON THE STUDY HOURS OF A STUDENT)"
   ]
  },
  {
   "cell_type": "markdown",
   "id": "317dac69",
   "metadata": {},
   "source": [
    "## SUBMITTED BY - UTKARSH SHARMA , INTERN AT THE SPARKS FOUNDATION (FEB,2022)"
   ]
  },
  {
   "cell_type": "code",
   "execution_count": 18,
   "id": "7b162558",
   "metadata": {},
   "outputs": [],
   "source": [
    "import pandas as pd \n",
    "import numpy as np \n",
    "import matplotlib.pyplot as plt\n",
    "import statsmodels.api as sm \n",
    "import seaborn as sns \n"
   ]
  },
  {
   "cell_type": "code",
   "execution_count": 19,
   "id": "8aaed2d6",
   "metadata": {},
   "outputs": [],
   "source": [
    "# IMPORTING THE DATA SET \n",
    "\n",
    "link = \"http://bit.ly/w-data\"\n",
    "\n",
    "data = pd.read_csv(link)\n",
    "x=data.iloc[:,:-1].values\n",
    "y=data.iloc[:,-1].values"
   ]
  },
  {
   "cell_type": "code",
   "execution_count": 20,
   "id": "63fa491e",
   "metadata": {},
   "outputs": [],
   "source": [
    "# SPLITTING THE DATASET INTO TRAINING SET AND TEST SET\n",
    "from sklearn.model_selection import train_test_split\n",
    "x_train,x_test,y_train,y_test=train_test_split(x,y,test_size=0.2)\n",
    "\n",
    "# as the dataset doesn't contain any missing values , hence Missing values filling step is not necessary"
   ]
  },
  {
   "cell_type": "code",
   "execution_count": 21,
   "id": "3b49a453",
   "metadata": {
    "scrolled": true
   },
   "outputs": [
    {
     "data": {
      "text/plain": [
       "LinearRegression()"
      ]
     },
     "execution_count": 21,
     "metadata": {},
     "output_type": "execute_result"
    }
   ],
   "source": [
    "# SIMPLE LINEAR REGRESSION MODEL ON THE TRAINING SET\n",
    "\n",
    "from sklearn.linear_model import LinearRegression  #importing the linear regression class from scikit\n",
    "regressor=LinearRegression()  # creating the object from the LinearRegression class in order to use Fit method\n",
    "\n",
    "regressor.fit(x_train,y_train)  # train the model in the simple linear regression using the x_train and y_train data vectors\n"
   ]
  },
  {
   "cell_type": "markdown",
   "id": "ac50872d",
   "metadata": {},
   "source": [
    "## TESTING THE MODEL ON THE TEST SET "
   ]
  },
  {
   "cell_type": "code",
   "execution_count": 22,
   "id": "358cba6b",
   "metadata": {},
   "outputs": [],
   "source": [
    "# TEST SET RESULT PREDICTION\n",
    "\n",
    "y_pred=regressor.predict(x_test)   #y_pred contains the predicted salaries "
   ]
  },
  {
   "cell_type": "code",
   "execution_count": 23,
   "id": "22315f75",
   "metadata": {},
   "outputs": [
    {
     "data": {
      "image/png": "[encoded data removed]",
      "text/plain": [
       "<Figure size 432x288 with 1 Axes>"
      ]
     },
     "metadata": {
      "needs_background": "light"
     },
     "output_type": "display_data"
    }
   ],
   "source": [
    "# VISUALISING THE TRAINING SET RESULTS\n",
    "\n",
    "plt.scatter(x_train,y_train,color='red')# scatter plot for the training set \n",
    "\n",
    "plt.plot(x_train,regressor.predict(x_train),color ='blue')  #regression line plot for x_train values and the predicted values\n",
    "\n",
    "plt.title('Study hours v/s Marks (Training set)')\n",
    "plt.xlabel('Study hours')\n",
    "plt.ylabel('Marks')\n",
    "plt.show()"
   ]
  },
  {
   "cell_type": "code",
   "execution_count": 24,
   "id": "c4404c1f",
   "metadata": {},
   "outputs": [
    {
     "data": {
      "image/png": "[encoded data removed]",
      "text/plain": [
       "<Figure size 432x288 with 1 Axes>"
      ]
     },
     "metadata": {
      "needs_background": "light"
     },
     "output_type": "display_data"
    }
   ],
   "source": [
    "# VISUALISING THE TEST SET RESULTS\n",
    "\n",
    "plt.scatter(x_test,y_test,color='red')# scatter plot for the test set \n",
    "\n",
    "plt.plot(x_train,regressor.predict(x_train),color ='blue')  #regression line plot will be the same for the predicted salaries, as the regression line doesn't change and is unique\n",
    "\n",
    "plt.title('Study hours v/s Marks (Test set)')\n",
    "plt.xlabel('Study hours')\n",
    "plt.ylabel('Marks')\n",
    "plt.show()"
   ]
  },
  {
   "cell_type": "markdown",
   "id": "2c56b179",
   "metadata": {},
   "source": [
    "# # R -VALUE OF THE MODEL"
   ]
  },
  {
   "cell_type": "code",
   "execution_count": 27,
   "id": "5034589b",
   "metadata": {},
   "outputs": [
    {
     "data": {
      "text/html": [
       "<div>\n",
       "<style scoped>\n",
       "    .dataframe tbody tr th:only-of-type {\n",
       "        vertical-align: middle;\n",
       "    }\n",
       "\n",
       "    .dataframe tbody tr th {\n",
       "        vertical-align: top;\n",
       "    }\n",
       "\n",
       "    .dataframe thead th {\n",
       "        text-align: right;\n",
       "    }\n",
       "</style>\n",
       "<table border=\"1\" class=\"dataframe\">\n",
       "  <thead>\n",
       "    <tr style=\"text-align: right;\">\n",
       "      <th></th>\n",
       "      <th>Hours</th>\n",
       "      <th>Scores</th>\n",
       "    </tr>\n",
       "  </thead>\n",
       "  <tbody>\n",
       "    <tr>\n",
       "      <th>0</th>\n",
       "      <td>2.5</td>\n",
       "      <td>21</td>\n",
       "    </tr>\n",
       "    <tr>\n",
       "      <th>1</th>\n",
       "      <td>5.1</td>\n",
       "      <td>47</td>\n",
       "    </tr>\n",
       "    <tr>\n",
       "      <th>2</th>\n",
       "      <td>3.2</td>\n",
       "      <td>27</td>\n",
       "    </tr>\n",
       "    <tr>\n",
       "      <th>3</th>\n",
       "      <td>8.5</td>\n",
       "      <td>75</td>\n",
       "    </tr>\n",
       "    <tr>\n",
       "      <th>4</th>\n",
       "      <td>3.5</td>\n",
       "      <td>30</td>\n",
       "    </tr>\n",
       "    <tr>\n",
       "      <th>5</th>\n",
       "      <td>1.5</td>\n",
       "      <td>20</td>\n",
       "    </tr>\n",
       "    <tr>\n",
       "      <th>6</th>\n",
       "      <td>9.2</td>\n",
       "      <td>88</td>\n",
       "    </tr>\n",
       "    <tr>\n",
       "      <th>7</th>\n",
       "      <td>5.5</td>\n",
       "      <td>60</td>\n",
       "    </tr>\n",
       "    <tr>\n",
       "      <th>8</th>\n",
       "      <td>8.3</td>\n",
       "      <td>81</td>\n",
       "    </tr>\n",
       "    <tr>\n",
       "      <th>9</th>\n",
       "      <td>2.7</td>\n",
       "      <td>25</td>\n",
       "    </tr>\n",
       "    <tr>\n",
       "      <th>10</th>\n",
       "      <td>7.7</td>\n",
       "      <td>85</td>\n",
       "    </tr>\n",
       "    <tr>\n",
       "      <th>11</th>\n",
       "      <td>5.9</td>\n",
       "      <td>62</td>\n",
       "    </tr>\n",
       "    <tr>\n",
       "      <th>12</th>\n",
       "      <td>4.5</td>\n",
       "      <td>41</td>\n",
       "    </tr>\n",
       "    <tr>\n",
       "      <th>13</th>\n",
       "      <td>3.3</td>\n",
       "      <td>42</td>\n",
       "    </tr>\n",
       "    <tr>\n",
       "      <th>14</th>\n",
       "      <td>1.1</td>\n",
       "      <td>17</td>\n",
       "    </tr>\n",
       "    <tr>\n",
       "      <th>15</th>\n",
       "      <td>8.9</td>\n",
       "      <td>95</td>\n",
       "    </tr>\n",
       "    <tr>\n",
       "      <th>16</th>\n",
       "      <td>2.5</td>\n",
       "      <td>30</td>\n",
       "    </tr>\n",
       "    <tr>\n",
       "      <th>17</th>\n",
       "      <td>1.9</td>\n",
       "      <td>24</td>\n",
       "    </tr>\n",
       "    <tr>\n",
       "      <th>18</th>\n",
       "      <td>6.1</td>\n",
       "      <td>67</td>\n",
       "    </tr>\n",
       "    <tr>\n",
       "      <th>19</th>\n",
       "      <td>7.4</td>\n",
       "      <td>69</td>\n",
       "    </tr>\n",
       "    <tr>\n",
       "      <th>20</th>\n",
       "      <td>2.7</td>\n",
       "      <td>30</td>\n",
       "    </tr>\n",
       "    <tr>\n",
       "      <th>21</th>\n",
       "      <td>4.8</td>\n",
       "      <td>54</td>\n",
       "    </tr>\n",
       "    <tr>\n",
       "      <th>22</th>\n",
       "      <td>3.8</td>\n",
       "      <td>35</td>\n",
       "    </tr>\n",
       "    <tr>\n",
       "      <th>23</th>\n",
       "      <td>6.9</td>\n",
       "      <td>76</td>\n",
       "    </tr>\n",
       "    <tr>\n",
       "      <th>24</th>\n",
       "      <td>7.8</td>\n",
       "      <td>86</td>\n",
       "    </tr>\n",
       "  </tbody>\n",
       "</table>\n",
       "</div>"
      ],
      "text/plain": [
       "    Hours  Scores\n",
       "0     2.5      21\n",
       "1     5.1      47\n",
       "2     3.2      27\n",
       "3     8.5      75\n",
       "4     3.5      30\n",
       "5     1.5      20\n",
       "6     9.2      88\n",
       "7     5.5      60\n",
       "8     8.3      81\n",
       "9     2.7      25\n",
       "10    7.7      85\n",
       "11    5.9      62\n",
       "12    4.5      41\n",
       "13    3.3      42\n",
       "14    1.1      17\n",
       "15    8.9      95\n",
       "16    2.5      30\n",
       "17    1.9      24\n",
       "18    6.1      67\n",
       "19    7.4      69\n",
       "20    2.7      30\n",
       "21    4.8      54\n",
       "22    3.8      35\n",
       "23    6.9      76\n",
       "24    7.8      86"
      ]
     },
     "execution_count": 27,
     "metadata": {},
     "output_type": "execute_result"
    }
   ],
   "source": [
    "data"
   ]
  },
  {
   "cell_type": "markdown",
   "id": "56fd4807",
   "metadata": {},
   "source": [
    "# # THE R VALUE IS 0.944 , THUS OUR LINEAR REGRESSION MODEL IS EFFICIENT"
   ]
  },
  {
   "cell_type": "markdown",
   "id": "71761533",
   "metadata": {},
   "source": [
    "# # PREDICTION STUDY HOURS = 9.25 hrs/day"
   ]
  },
  {
   "cell_type": "code",
   "execution_count": 26,
   "id": "fd9656ca",
   "metadata": {},
   "outputs": [
    {
     "data": {
      "text/plain": [
       "array([91.02290345])"
      ]
     },
     "execution_count": 26,
     "metadata": {},
     "output_type": "execute_result"
    }
   ],
   "source": [
    "x_predict=np.full((1,1),9.25)  # CREATING A NUMPY ARRAY FOR OUR VALUE REQUIRED FOR THE PREDICTION i.e. 9.25 Hrs \n",
    "\n",
    "regressor.predict(x_predict)"
   ]
  },
  {
   "cell_type": "markdown",
   "id": "571ea077",
   "metadata": {},
   "source": [
    "## THE PREDICTED SCORE FOR OUR TEST VALUE OF 9.25 Hrs / day is, 93.1915"
   ]
  }
 ],
 "metadata": {
  "kernelspec": {
   "display_name": "Python 3 (ipykernel)",
   "language": "python",
   "name": "python3"
  },
  "language_info": {
   "codemirror_mode": {
    "name": "ipython",
    "version": 3
   },
   "file_extension": ".py",
   "mimetype": "text/x-python",
   "name": "python",
   "nbconvert_exporter": "python",
   "pygments_lexer": "ipython3",
   "version": "3.9.7"
  }
 },
 "nbformat": 4,
 "nbformat_minor": 5
}
